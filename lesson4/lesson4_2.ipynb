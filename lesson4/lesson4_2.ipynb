{
  "nbformat": 4,
  "nbformat_minor": 0,
  "metadata": {
    "colab": {
      "provenance": [],
      "include_colab_link": true
    },
    "kernelspec": {
      "name": "python3",
      "display_name": "Python 3"
    },
    "language_info": {
      "name": "python"
    }
  },
  "cells": [
    {
      "cell_type": "markdown",
      "metadata": {
        "id": "view-in-github",
        "colab_type": "text"
      },
      "source": [
        "<a href=\"https://colab.research.google.com/github/ltwsharon/20250503_chihlee_python/blob/main/lesson4/lesson4_2.ipynb\" target=\"_parent\"><img src=\"https://colab.research.google.com/assets/colab-badge.svg\" alt=\"Open In Colab\"/></a>"
      ]
    },
    {
      "cell_type": "markdown",
      "source": [
        "# python while迴圈說明\n",
        "\n",
        "---\n",
        "\n",
        "Python 的 while 迴圈用來根據條件判斷，重複執行某段程式碼，直到條件不成立為止。其基本語法如下：\n",
        "\n",
        "```\n",
        "while 條件:\n",
        "    程式區塊\n",
        "```\n",
        "\n",
        "•\t當條件為 True 時，會執行縮排的程式區塊。  \n",
        "•\t每次執行完程式區塊後，會再次檢查條件，若仍為 True，則繼續執行迴圈。  \n",
        "•\t當條件變為 False，迴圈結束，程式往下繼續執行。"
      ],
      "metadata": {
        "id": "zcDHxtwK8Ggo"
      }
    },
    {
      "cell_type": "code",
      "execution_count": null,
      "metadata": {
        "id": "UoU5Yb0N7498"
      },
      "outputs": [],
      "source": [
        "count = 1\n",
        "while count <= 5:\n",
        "    print(count)\n",
        "    count += 1"
      ]
    },
    {
      "cell_type": "code",
      "source": [
        "total = 0\n",
        "while True:\n",
        "    num = int(input(\"請輸入一個數字（輸入 0 結束）：\"))\n",
        "    if num == 0:\n",
        "        break\n",
        "    total += num\n",
        "print(\"總和：\", total)"
      ],
      "metadata": {
        "colab": {
          "base_uri": "https://localhost:8080/"
        },
        "id": "c-Dto-NL_c7F",
        "outputId": "75011b55-14d5-4e0d-df28-8f2dd12543db"
      },
      "execution_count": null,
      "outputs": [
        {
          "output_type": "stream",
          "name": "stdout",
          "text": [
            "請輸入一個數字（輸入 0 結束）：5\n",
            "請輸入一個數字（輸入 0 結束）：10\n",
            "請輸入一個數字（輸入 0 結束）：0\n",
            "總和： 15\n"
          ]
        }
      ]
    },
    {
      "cell_type": "markdown",
      "source": [
        "# python 取得亂數1~100"
      ],
      "metadata": {
        "id": "h6trKfR_HgTX"
      }
    },
    {
      "cell_type": "code",
      "source": [
        "import random\n",
        "min = 1\n",
        "max = 99\n",
        "count = 0\n",
        "random_number = random.randint(min,max)\n",
        "#print(random_number)\n",
        "print(\"=====猜數字遊戲開始=========\\n\\n\")\n",
        "while True:\n",
        "  input_number = int(input(f\"請輸入數字({min}~{max}):\"))\n",
        "  count += 1\n",
        "  if(input_number == random_number):\n",
        "    print(f\"賓果!猜對了, 答案是:{input_number}\")\n",
        "    print(f\"您猜了:{count}次\")\n",
        "    break\n",
        "  elif(input_number>random_number):\n",
        "    print(f\"再小一點\")\n",
        "    max = input_number - 1\n",
        "  elif(input_number<random_number):\n",
        "    print(f\"再大一點\")\n",
        "    min = input_number + 1\n",
        "\n",
        "  print(f\"您已經猜了:{count}次\\n\")\n",
        "\n",
        "\n",
        "print(\"Game Over\")\n"
      ],
      "metadata": {
        "id": "Ivggv6gXIEXz",
        "outputId": "b96b520c-d49c-402a-c109-3e6c3fd93206",
        "colab": {
          "base_uri": "https://localhost:8080/",
          "height": 478
        }
      },
      "execution_count": 15,
      "outputs": [
        {
          "output_type": "stream",
          "name": "stdout",
          "text": [
            "=====猜數字遊戲開始=========\n",
            "\n",
            "\n",
            "請輸入數字(1~99):50\n",
            "再小一點\n",
            "您已經猜了:1次\n",
            "\n"
          ]
        },
        {
          "output_type": "error",
          "ename": "KeyboardInterrupt",
          "evalue": "Interrupted by user",
          "traceback": [
            "\u001b[0;31m---------------------------------------------------------------------------\u001b[0m",
            "\u001b[0;31mKeyboardInterrupt\u001b[0m                         Traceback (most recent call last)",
            "\u001b[0;32m<ipython-input-15-94c461154449>\u001b[0m in \u001b[0;36m<cell line: 0>\u001b[0;34m()\u001b[0m\n\u001b[1;32m      7\u001b[0m \u001b[0mprint\u001b[0m\u001b[0;34m(\u001b[0m\u001b[0;34m\"=====猜數字遊戲開始=========\\n\\n\"\u001b[0m\u001b[0;34m)\u001b[0m\u001b[0;34m\u001b[0m\u001b[0;34m\u001b[0m\u001b[0m\n\u001b[1;32m      8\u001b[0m \u001b[0;32mwhile\u001b[0m \u001b[0;32mTrue\u001b[0m\u001b[0;34m:\u001b[0m\u001b[0;34m\u001b[0m\u001b[0;34m\u001b[0m\u001b[0m\n\u001b[0;32m----> 9\u001b[0;31m   \u001b[0minput_number\u001b[0m \u001b[0;34m=\u001b[0m \u001b[0mint\u001b[0m\u001b[0;34m(\u001b[0m\u001b[0minput\u001b[0m\u001b[0;34m(\u001b[0m\u001b[0;34mf\"請輸入數字({min}~{max}):\"\u001b[0m\u001b[0;34m)\u001b[0m\u001b[0;34m)\u001b[0m\u001b[0;34m\u001b[0m\u001b[0;34m\u001b[0m\u001b[0m\n\u001b[0m\u001b[1;32m     10\u001b[0m   \u001b[0mcount\u001b[0m \u001b[0;34m+=\u001b[0m \u001b[0;36m1\u001b[0m\u001b[0;34m\u001b[0m\u001b[0;34m\u001b[0m\u001b[0m\n\u001b[1;32m     11\u001b[0m   \u001b[0;32mif\u001b[0m\u001b[0;34m(\u001b[0m\u001b[0minput_number\u001b[0m \u001b[0;34m==\u001b[0m \u001b[0mrandom_number\u001b[0m\u001b[0;34m)\u001b[0m\u001b[0;34m:\u001b[0m\u001b[0;34m\u001b[0m\u001b[0;34m\u001b[0m\u001b[0m\n",
            "\u001b[0;32m/usr/local/lib/python3.11/dist-packages/ipykernel/kernelbase.py\u001b[0m in \u001b[0;36mraw_input\u001b[0;34m(self, prompt)\u001b[0m\n\u001b[1;32m   1175\u001b[0m                 \u001b[0;34m\"raw_input was called, but this frontend does not support input requests.\"\u001b[0m\u001b[0;34m\u001b[0m\u001b[0;34m\u001b[0m\u001b[0m\n\u001b[1;32m   1176\u001b[0m             )\n\u001b[0;32m-> 1177\u001b[0;31m         return self._input_request(\n\u001b[0m\u001b[1;32m   1178\u001b[0m             \u001b[0mstr\u001b[0m\u001b[0;34m(\u001b[0m\u001b[0mprompt\u001b[0m\u001b[0;34m)\u001b[0m\u001b[0;34m,\u001b[0m\u001b[0;34m\u001b[0m\u001b[0;34m\u001b[0m\u001b[0m\n\u001b[1;32m   1179\u001b[0m             \u001b[0mself\u001b[0m\u001b[0;34m.\u001b[0m\u001b[0m_parent_ident\u001b[0m\u001b[0;34m[\u001b[0m\u001b[0;34m\"shell\"\u001b[0m\u001b[0;34m]\u001b[0m\u001b[0;34m,\u001b[0m\u001b[0;34m\u001b[0m\u001b[0;34m\u001b[0m\u001b[0m\n",
            "\u001b[0;32m/usr/local/lib/python3.11/dist-packages/ipykernel/kernelbase.py\u001b[0m in \u001b[0;36m_input_request\u001b[0;34m(self, prompt, ident, parent, password)\u001b[0m\n\u001b[1;32m   1217\u001b[0m             \u001b[0;32mexcept\u001b[0m \u001b[0mKeyboardInterrupt\u001b[0m\u001b[0;34m:\u001b[0m\u001b[0;34m\u001b[0m\u001b[0;34m\u001b[0m\u001b[0m\n\u001b[1;32m   1218\u001b[0m                 \u001b[0;31m# re-raise KeyboardInterrupt, to truncate traceback\u001b[0m\u001b[0;34m\u001b[0m\u001b[0;34m\u001b[0m\u001b[0m\n\u001b[0;32m-> 1219\u001b[0;31m                 \u001b[0;32mraise\u001b[0m \u001b[0mKeyboardInterrupt\u001b[0m\u001b[0;34m(\u001b[0m\u001b[0;34m\"Interrupted by user\"\u001b[0m\u001b[0;34m)\u001b[0m \u001b[0;32mfrom\u001b[0m \u001b[0;32mNone\u001b[0m\u001b[0;34m\u001b[0m\u001b[0;34m\u001b[0m\u001b[0m\n\u001b[0m\u001b[1;32m   1220\u001b[0m             \u001b[0;32mexcept\u001b[0m \u001b[0mException\u001b[0m\u001b[0;34m:\u001b[0m\u001b[0;34m\u001b[0m\u001b[0;34m\u001b[0m\u001b[0m\n\u001b[1;32m   1221\u001b[0m                 \u001b[0mself\u001b[0m\u001b[0;34m.\u001b[0m\u001b[0mlog\u001b[0m\u001b[0;34m.\u001b[0m\u001b[0mwarning\u001b[0m\u001b[0;34m(\u001b[0m\u001b[0;34m\"Invalid Message:\"\u001b[0m\u001b[0;34m,\u001b[0m \u001b[0mexc_info\u001b[0m\u001b[0;34m=\u001b[0m\u001b[0;32mTrue\u001b[0m\u001b[0;34m)\u001b[0m\u001b[0;34m\u001b[0m\u001b[0;34m\u001b[0m\u001b[0m\n",
            "\u001b[0;31mKeyboardInterrupt\u001b[0m: Interrupted by user"
          ]
        }
      ]
    },
    {
      "cell_type": "code",
      "source": [
        "orange = 3\n",
        "apple = 5\n",
        "\"您有orange\" + str(orange) + \"個, apple \" + str(apple) + \"個\""
      ],
      "metadata": {
        "id": "BBGPN8cNJfsJ",
        "outputId": "94fe83af-cae0-447c-a18d-366cabe280b6",
        "colab": {
          "base_uri": "https://localhost:8080/",
          "height": 35
        }
      },
      "execution_count": null,
      "outputs": [
        {
          "output_type": "execute_result",
          "data": {
            "text/plain": [
              "'您有orange3個, apple 5個'"
            ],
            "application/vnd.google.colaboratory.intrinsic+json": {
              "type": "string"
            }
          },
          "metadata": {},
          "execution_count": 17
        }
      ]
    },
    {
      "cell_type": "code",
      "source": [
        "orange = 3\n",
        "apple = 5\n",
        "f\"您有orange{orange}個, apple {apple}個\""
      ],
      "metadata": {
        "id": "mlg4CDEjKYXF",
        "outputId": "c70ec7b4-bbe5-4b2f-893a-7763119acb24",
        "colab": {
          "base_uri": "https://localhost:8080/",
          "height": 35
        }
      },
      "execution_count": null,
      "outputs": [
        {
          "output_type": "execute_result",
          "data": {
            "text/plain": [
              "'您有orange3個, apple 5個'"
            ],
            "application/vnd.google.colaboratory.intrinsic+json": {
              "type": "string"
            }
          },
          "metadata": {},
          "execution_count": 19
        }
      ]
    },
    {
      "cell_type": "code",
      "source": [
        "import random\n",
        "min = 1\n",
        "max = 99\n",
        "random_number = random.randint(min,max)\n",
        "print(random_number)\n",
        "while True:\n",
        "  input_number = int(input(f\"請輸入數字({min}~{max}):\"))\n",
        "  if input_number == random_number:\n",
        "    break\n",
        "  elif input_number > random_number"
      ],
      "metadata": {
        "id": "U3T5EQAxPp7S",
        "outputId": "c3105dd3-4086-433a-adb3-fe681384c210",
        "colab": {
          "base_uri": "https://localhost:8080/"
        }
      },
      "execution_count": 16,
      "outputs": [
        {
          "output_type": "stream",
          "name": "stdout",
          "text": [
            "33\n"
          ]
        }
      ]
    }
  ]
}