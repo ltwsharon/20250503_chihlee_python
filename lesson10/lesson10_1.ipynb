{
 "cells": [
  {
   "cell_type": "markdown",
   "id": "10a61ec0",
   "metadata": {},
   "source": [
    "https://www.perplexity.ai/search/3fe51208-8e87-4055-9e80-8c6114ac49d3"
   ]
  },
  {
   "cell_type": "code",
   "execution_count": null,
   "id": "f1310dcb",
   "metadata": {},
   "outputs": [],
   "source": [
    "import csv\n",
    "with open('個股日成交資訊.csv',encoding='utf-8',newline='') as csvfile:\n",
    "    reader = csv.reader(csvfile)\n",
    "    next(reader)\n",
    "    stacks:list[list] = list(reader)\n",
    "type(stacks)"
   ]
  },
  {
   "cell_type": "code",
   "execution_count": 11,
   "id": "f42ed977",
   "metadata": {},
   "outputs": [
    {
     "name": "stdout",
     "output_type": "stream",
     "text": [
      "stacks 中共有 1113 筆資料。\n"
     ]
    }
   ],
   "source": [
    "import csv\n",
    "with open('個股日成交資訊.csv',encoding='utf-8',newline='') as csvfile:\n",
    "    reader = csv.DictReader(csvfile)\n",
    "    stacks:list[dict] = list(reader)\n",
    "\n",
    "   # 印出 stacks 串列中的資料筆數\n",
    "print(f\"stacks 中共有 {len(stacks)} 筆資料。\") \n"
   ]
  },
  {
   "cell_type": "code",
   "execution_count": 4,
   "id": "eb63cf11",
   "metadata": {},
   "outputs": [
    {
     "data": {
      "text/html": [
       "<div>\n",
       "<style scoped>\n",
       "    .dataframe tbody tr th:only-of-type {\n",
       "        vertical-align: middle;\n",
       "    }\n",
       "\n",
       "    .dataframe tbody tr th {\n",
       "        vertical-align: top;\n",
       "    }\n",
       "\n",
       "    .dataframe thead th {\n",
       "        text-align: right;\n",
       "    }\n",
       "</style>\n",
       "<table border=\"1\" class=\"dataframe\">\n",
       "  <thead>\n",
       "    <tr style=\"text-align: right;\">\n",
       "      <th></th>\n",
       "      <th>0</th>\n",
       "      <th>1</th>\n",
       "      <th>2</th>\n",
       "      <th>3</th>\n",
       "      <th>4</th>\n",
       "      <th>5</th>\n",
       "      <th>6</th>\n",
       "      <th>7</th>\n",
       "      <th>8</th>\n",
       "      <th>9</th>\n",
       "    </tr>\n",
       "  </thead>\n",
       "  <tbody>\n",
       "    <tr>\n",
       "      <th>0</th>\n",
       "      <td>0050</td>\n",
       "      <td>元大台灣50</td>\n",
       "      <td>46,790,503</td>\n",
       "      <td>3,463,425,684</td>\n",
       "      <td>74.95</td>\n",
       "      <td>75.25</td>\n",
       "      <td>72.80</td>\n",
       "      <td>72.80</td>\n",
       "      <td>-2.05</td>\n",
       "      <td>23,021</td>\n",
       "    </tr>\n",
       "    <tr>\n",
       "      <th>1</th>\n",
       "      <td>0051</td>\n",
       "      <td>元大中型100</td>\n",
       "      <td>43,172</td>\n",
       "      <td>1,177,199</td>\n",
       "      <td>27.30</td>\n",
       "      <td>27.57</td>\n",
       "      <td>26.75</td>\n",
       "      <td>26.75</td>\n",
       "      <td>-0.52</td>\n",
       "      <td>45</td>\n",
       "    </tr>\n",
       "    <tr>\n",
       "      <th>2</th>\n",
       "      <td>0052</td>\n",
       "      <td>富邦科技</td>\n",
       "      <td>161,425</td>\n",
       "      <td>9,156,750</td>\n",
       "      <td>57.60</td>\n",
       "      <td>57.60</td>\n",
       "      <td>55.35</td>\n",
       "      <td>55.35</td>\n",
       "      <td>-2.35</td>\n",
       "      <td>67</td>\n",
       "    </tr>\n",
       "    <tr>\n",
       "      <th>3</th>\n",
       "      <td>0053</td>\n",
       "      <td>元大電子</td>\n",
       "      <td>35,076</td>\n",
       "      <td>1,163,448</td>\n",
       "      <td>33.36</td>\n",
       "      <td>33.61</td>\n",
       "      <td>32.56</td>\n",
       "      <td>32.69</td>\n",
       "      <td>-0.67</td>\n",
       "      <td>19</td>\n",
       "    </tr>\n",
       "    <tr>\n",
       "      <th>4</th>\n",
       "      <td>0054</td>\n",
       "      <td>元大台商50</td>\n",
       "      <td>27,028</td>\n",
       "      <td>507,569</td>\n",
       "      <td>18.80</td>\n",
       "      <td>19.00</td>\n",
       "      <td>18.64</td>\n",
       "      <td>18.64</td>\n",
       "      <td>-0.36</td>\n",
       "      <td>13</td>\n",
       "    </tr>\n",
       "  </tbody>\n",
       "</table>\n",
       "</div>"
      ],
      "text/plain": [
       "      0        1           2              3      4      5      6      7  \\\n",
       "0  0050   元大台灣50  46,790,503  3,463,425,684  74.95  75.25  72.80  72.80   \n",
       "1  0051  元大中型100      43,172      1,177,199  27.30  27.57  26.75  26.75   \n",
       "2  0052     富邦科技     161,425      9,156,750  57.60  57.60  55.35  55.35   \n",
       "3  0053     元大電子      35,076      1,163,448  33.36  33.61  32.56  32.69   \n",
       "4  0054   元大台商50      27,028        507,569  18.80  19.00  18.64  18.64   \n",
       "\n",
       "       8       9  \n",
       "0  -2.05  23,021  \n",
       "1  -0.52      45  \n",
       "2  -2.35      67  \n",
       "3  -0.67      19  \n",
       "4  -0.36      13  "
      ]
     },
     "execution_count": 4,
     "metadata": {},
     "output_type": "execute_result"
    }
   ],
   "source": [
    "import pandas as pd\n",
    "\n",
    "pd.DataFrame(stacks).head()"
   ]
  },
  {
   "cell_type": "code",
   "execution_count": 7,
   "id": "9d10a7e1",
   "metadata": {},
   "outputs": [
    {
     "name": "stdout",
     "output_type": "stream",
     "text": [
      "使用 pd.read_csv() 讀取的 DataFrame (通常對齊效果較好):\n",
      "  證券代號     證券名稱    成交股數       成交金額 開盤價 最高價 最低價  \\\n",
      "0     0050   元大台灣50  46,790,503  3,463,425,684  74.95  75.25  72.80   \n",
      "1     0051  元大中型100      43,172      1,177,199  27.30  27.57  26.75   \n",
      "2     0052     富邦科技     161,425      9,156,750  57.60  57.60  55.35   \n",
      "3     0053     元大電子      35,076      1,163,448  33.36  33.61  32.56   \n",
      "4     0054   元大台商50      27,028        507,569  18.80  19.00  18.64   \n",
      "\n",
      "  收盤價 漲跌價差 成交筆數  \n",
      "0  72.80    -2.05   23,021  \n",
      "1  26.75    -0.52       45  \n",
      "2  55.35    -2.35       67  \n",
      "3  32.69    -0.67       19  \n",
      "4  18.64    -0.36       13  \n"
     ]
    }
   ],
   "source": [
    "import pandas as pd\n",
    "\n",
    "file_path = 'c:\\\\Users\\\\user\\\\OneDrive\\\\Documents\\\\github\\\\20250503_chihlee_python\\\\lesson10\\\\個股日成交資訊.csv'\n",
    "\n",
    "try:\n",
    "    # 調整 Pandas 顯示選項以更好地處理中文字元\n",
    "    pd.set_option('display.unicode.east_asian_width', True)\n",
    "    # pd.set_option('display.width', 1000) # 可選：增加顯示寬度\n",
    "    # pd.set_option('display.max_columns', None) # 可選：顯示所有欄位\n",
    "\n",
    "    # 直接使用 pandas 讀取 CSV\n",
    "    df = pd.read_csv(file_path, encoding='utf-8')\n",
    "    \n",
    "    print(\"使用 pd.read_csv() 讀取的 DataFrame (通常對齊效果較好):\")\n",
    "    print(df.head())\n",
    "\n",
    "except FileNotFoundError:\n",
    "    print(f\"錯誤：找不到檔案 '{file_path}'。請確認檔案路徑是否正確。\")\n",
    "except Exception as e:\n",
    "    print(f\"讀取檔案時發生錯誤：{e}\")\n"
   ]
  }
 ],
 "metadata": {
  "kernelspec": {
   "display_name": "env1",
   "language": "python",
   "name": "python3"
  },
  "language_info": {
   "codemirror_mode": {
    "name": "ipython",
    "version": 3
   },
   "file_extension": ".py",
   "mimetype": "text/x-python",
   "name": "python",
   "nbconvert_exporter": "python",
   "pygments_lexer": "ipython3",
   "version": "3.10.18"
  }
 },
 "nbformat": 4,
 "nbformat_minor": 5
}
