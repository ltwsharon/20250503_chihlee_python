{
 "cells": [
  {
   "cell_type": "markdown",
   "id": "10a61ec0",
   "metadata": {},
   "source": [
    "https://www.perplexity.ai/search/3fe51208-8e87-4055-9e80-8c6114ac49d3"
   ]
  },
  {
   "cell_type": "code",
   "execution_count": 2,
   "id": "f1310dcb",
   "metadata": {},
   "outputs": [
    {
     "data": {
      "text/plain": [
       "list"
      ]
     },
     "execution_count": 2,
     "metadata": {},
     "output_type": "execute_result"
    }
   ],
   "source": [
    "import csv\n",
    "with open('個股日成交資訊.csv',encoding='utf-8',newline='') as csvfile:\n",
    "    reader = csv.reader(csvfile)\n",
    "    next(reader)\n",
    "    stacks:list[list] = list(reader)\n",
    "type(stacks)"
   ]
  },
  {
   "cell_type": "code",
   "execution_count": 11,
   "id": "f42ed977",
   "metadata": {},
   "outputs": [
    {
     "name": "stdout",
     "output_type": "stream",
     "text": [
      "stacks 中共有 1113 筆資料。\n"
     ]
    }
   ],
   "source": [
    "import csv\n",
    "with open('個股日成交資訊.csv',encoding='utf-8',newline='') as csvfile:\n",
    "    reader = csv.DictReader(csvfile)\n",
    "    stacks:list[dict] = list(reader)\n",
    "\n",
    "   # 印出 stacks 串列中的資料筆數\n",
    "print(f\"stacks 中共有 {len(stacks)} 筆資料。\") \n"
   ]
  },
  {
   "cell_type": "code",
   "execution_count": 1,
   "id": "4d71e362",
   "metadata": {},
   "outputs": [
    {
     "ename": "NameError",
     "evalue": "name 'stacks' is not defined",
     "output_type": "error",
     "traceback": [
      "\u001b[1;31m---------------------------------------------------------------------------\u001b[0m",
      "\u001b[1;31mNameError\u001b[0m                                 Traceback (most recent call last)",
      "Cell \u001b[1;32mIn[1], line 3\u001b[0m\n\u001b[0;32m      1\u001b[0m \u001b[38;5;28;01mimport\u001b[39;00m\u001b[38;5;250m \u001b[39m\u001b[38;5;21;01mpandas\u001b[39;00m\u001b[38;5;250m \u001b[39m\u001b[38;5;28;01mas\u001b[39;00m\u001b[38;5;250m \u001b[39m\u001b[38;5;21;01mpd\u001b[39;00m\n\u001b[1;32m----> 3\u001b[0m df1 \u001b[38;5;241m=\u001b[39m pd\u001b[38;5;241m.\u001b[39mDataFrame(\u001b[43mstacks\u001b[49m)\n\u001b[0;32m      4\u001b[0m df1\u001b[38;5;241m.\u001b[39mto_excel(\u001b[38;5;124m'\u001b[39m\u001b[38;5;124m個股日成交資訊.xlsx\u001b[39m\u001b[38;5;124m'\u001b[39m,sheet_name\u001b[38;5;241m=\u001b[39m\u001b[38;5;124m'\u001b[39m\u001b[38;5;124m第1頁\u001b[39m\u001b[38;5;124m'\u001b[39m,index\u001b[38;5;241m=\u001b[39m\u001b[38;5;28;01mFalse\u001b[39;00m)\n",
      "\u001b[1;31mNameError\u001b[0m: name 'stacks' is not defined"
     ]
    }
   ],
   "source": [
    "import pandas as pd\n",
    "\n",
    "df1 = pd.DataFrame(stacks)\n",
    "df1.to_excel('個股日成交資訊.xlsx',sheet_name='第1頁',index=False)"
   ]
  }
 ],
 "metadata": {
  "kernelspec": {
   "display_name": "env1",
   "language": "python",
   "name": "python3"
  },
  "language_info": {
   "codemirror_mode": {
    "name": "ipython",
    "version": 3
   },
   "file_extension": ".py",
   "mimetype": "text/x-python",
   "name": "python",
   "nbconvert_exporter": "python",
   "pygments_lexer": "ipython3",
   "version": "3.10.18"
  }
 },
 "nbformat": 4,
 "nbformat_minor": 5
}
