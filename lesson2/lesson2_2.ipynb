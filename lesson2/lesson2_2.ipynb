{
  "nbformat": 4,
  "nbformat_minor": 0,
  "metadata": {
    "colab": {
      "provenance": [],
      "authorship_tag": "ABX9TyPapQobWpBMhJ2leRFZ1lYS",
      "include_colab_link": true
    },
    "kernelspec": {
      "name": "python3",
      "display_name": "Python 3"
    },
    "language_info": {
      "name": "python"
    }
  },
  "cells": [
    {
      "cell_type": "markdown",
      "metadata": {
        "id": "view-in-github",
        "colab_type": "text"
      },
      "source": [
        "<a href=\"https://colab.research.google.com/github/ltwsharon/20250503_chihlee_python/blob/main/lesson2/lesson2_2.ipynb\" target=\"_parent\"><img src=\"https://colab.research.google.com/assets/colab-badge.svg\" alt=\"Open In Colab\"/></a>"
      ]
    },
    {
      "cell_type": "markdown",
      "source": [
        "# 字串和字串可以相加,相乘"
      ],
      "metadata": {
        "id": "AOxpldtQJuk6"
      }
    },
    {
      "cell_type": "code",
      "execution_count": 4,
      "metadata": {
        "id": "sXw2xeWVFq6_",
        "outputId": "6f18cd37-defd-4bd5-de00-680edf4bbab1",
        "colab": {
          "base_uri": "https://localhost:8080/",
          "height": 35
        }
      },
      "outputs": [
        {
          "output_type": "execute_result",
          "data": {
            "text/plain": [
              "'**********'"
            ],
            "application/vnd.google.colaboratory.intrinsic+json": {
              "type": "string"
            }
          },
          "metadata": {},
          "execution_count": 4
        }
      ],
      "source": [
        "\"5\" + \"5\"\n",
        "\"=\" * 5\n",
        "\"**\" * 5"
      ]
    },
    {
      "cell_type": "markdown",
      "source": [
        "# 暫時轉換型別"
      ],
      "metadata": {
        "id": "hEGBCL6eJ76K"
      }
    },
    {
      "cell_type": "code",
      "source": [
        "width = float(input(\"請輸入矩型的寬:\"))\n",
        "height = float(input(\"請輸入矩形的高:\"))\n",
        "area = width * height\n",
        "print(\"矩形的面積為:\",area)\n"
      ],
      "metadata": {
        "id": "5XcbwVrgJ0GS",
        "outputId": "f5dfc045-9a70-4b03-e9c2-70f5eb5cca8d",
        "colab": {
          "base_uri": "https://localhost:8080/"
        }
      },
      "execution_count": 2,
      "outputs": [
        {
          "output_type": "stream",
          "name": "stdout",
          "text": [
            "請輸入矩型的寬:12.0258\n",
            "請輸入矩形的高:55.369\n",
            "矩形的面積為: 665.8565202\n"
          ]
        }
      ]
    },
    {
      "cell_type": "code",
      "source": [
        "import math\n",
        "a = float(input(\"請輸入底：\"))\n",
        "b = float(input(\"請輸入高：\"))\n",
        "c = math.sqrt(a ** 2 + b ** 2)\n",
        "print(\"斜邊:\",c)\n",
        ""
      ],
      "metadata": {
        "id": "bJte0qrGMghR",
        "outputId": "71822108-02f9-4ea7-a42a-2dbdda8e51d7",
        "colab": {
          "base_uri": "https://localhost:8080/"
        }
      },
      "execution_count": 7,
      "outputs": [
        {
          "output_type": "stream",
          "name": "stdout",
          "text": [
            "請輸入底：12.369\n",
            "請輸入高：22.369\n",
            "斜邊: 25.560992195139843\n"
          ]
        }
      ]
    }
  ]
}