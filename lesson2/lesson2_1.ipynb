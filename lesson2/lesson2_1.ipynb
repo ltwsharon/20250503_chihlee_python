{
  "nbformat": 4,
  "nbformat_minor": 0,
  "metadata": {
    "colab": {
      "provenance": [],
      "authorship_tag": "ABX9TyNxARLVFYoyrchvjHRSAqNy",
      "include_colab_link": true
    },
    "kernelspec": {
      "name": "python3",
      "display_name": "Python 3"
    },
    "language_info": {
      "name": "python"
    }
  },
  "cells": [
    {
      "cell_type": "markdown",
      "metadata": {
        "id": "view-in-github",
        "colab_type": "text"
      },
      "source": [
        "<a href=\"https://colab.research.google.com/github/ltwsharon/20250503_chihlee_python/blob/main/lesson2/lesson2_1.ipynb\" target=\"_parent\"><img src=\"https://colab.research.google.com/assets/colab-badge.svg\" alt=\"Open In Colab\"/></a>"
      ]
    },
    {
      "cell_type": "markdown",
      "source": [
        "# 會做6件事\n",
        "# 運算子的優先順序\n",
        "\n",
        "# ()\n",
        "# **\n",
        "# * / % //\n",
        "# + -\n",
        "# ="
      ],
      "metadata": {
        "id": "YXVDq_UPujs1"
      }
    },
    {
      "cell_type": "code",
      "execution_count": 1,
      "metadata": {
        "id": "57LFDKdcqHP2",
        "outputId": "b8087ec0-fe1c-48f0-8832-b7b5617bc498",
        "colab": {
          "base_uri": "https://localhost:8080/"
        }
      },
      "outputs": [
        {
          "output_type": "execute_result",
          "data": {
            "text/plain": [
              "10"
            ]
          },
          "metadata": {},
          "execution_count": 1
        }
      ],
      "source": [
        "2*(1+2)**2-2**2*2"
      ]
    }
  ]
}