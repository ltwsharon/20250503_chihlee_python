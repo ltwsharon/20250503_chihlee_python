{
  "nbformat": 4,
  "nbformat_minor": 0,
  "metadata": {
    "colab": {
      "provenance": [],
      "authorship_tag": "ABX9TyO1OowlsoyaPLW8Zf0XLvgK",
      "include_colab_link": true
    },
    "kernelspec": {
      "name": "python3",
      "display_name": "Python 3"
    },
    "language_info": {
      "name": "python"
    }
  },
  "cells": [
    {
      "cell_type": "markdown",
      "metadata": {
        "id": "view-in-github",
        "colab_type": "text"
      },
      "source": [
        "<a href=\"https://colab.research.google.com/github/ltwsharon/20250503_chihlee_python/blob/main/lesson2/lesson2_1.ipynb\" target=\"_parent\"><img src=\"https://colab.research.google.com/assets/colab-badge.svg\" alt=\"Open In Colab\"/></a>"
      ]
    },
    {
      "cell_type": "markdown",
      "source": [
        "# 會做6件事\n",
        "# 運算子的優先順序\n",
        "\n",
        "# ()\n",
        "# **\n",
        "# * / % //\n",
        "# + -\n",
        "# ="
      ],
      "metadata": {
        "id": "YXVDq_UPujs1"
      }
    },
    {
      "cell_type": "code",
      "execution_count": 1,
      "metadata": {
        "id": "57LFDKdcqHP2",
        "colab": {
          "base_uri": "https://localhost:8080/"
        },
        "outputId": "b8087ec0-fe1c-48f0-8832-b7b5617bc498"
      },
      "outputs": [
        {
          "output_type": "execute_result",
          "data": {
            "text/plain": [
              "10"
            ]
          },
          "metadata": {},
          "execution_count": 1
        }
      ],
      "source": [
        "2*(1+2)**2-2**2*2"
      ]
    },
    {
      "cell_type": "markdown",
      "source": [
        "# = 敘述式，不會傳出值"
      ],
      "metadata": {
        "id": "uHZhnlBq0rXE"
      }
    },
    {
      "cell_type": "code",
      "source": [
        "n=2*(1+2)**2-2**2*2\n",
        "n=n*10\n",
        "n"
      ],
      "metadata": {
        "colab": {
          "base_uri": "https://localhost:8080/"
        },
        "id": "iUq2UnzCz7dg",
        "outputId": "b7338093-6e92-4e3d-ffa3-9ec958005472"
      },
      "execution_count": 3,
      "outputs": [
        {
          "output_type": "execute_result",
          "data": {
            "text/plain": [
              "100"
            ]
          },
          "metadata": {},
          "execution_count": 3
        }
      ]
    },
    {
      "cell_type": "markdown",
      "source": [
        "# *= 複合指定運算子"
      ],
      "metadata": {
        "id": "CVHOKemH3hSn"
      }
    },
    {
      "cell_type": "code",
      "source": [
        "n=2*(1+2)**2-2**2*2\n",
        "n*=10\n",
        "n"
      ],
      "metadata": {
        "colab": {
          "base_uri": "https://localhost:8080/"
        },
        "id": "uxEY3FF83bGo",
        "outputId": "277cbbe4-da4a-4f6b-fc31-704a3243fe77"
      },
      "execution_count": 4,
      "outputs": [
        {
          "output_type": "execute_result",
          "data": {
            "text/plain": [
              "100"
            ]
          },
          "metadata": {},
          "execution_count": 4
        }
      ]
    },
    {
      "cell_type": "markdown",
      "source": [
        "# input()使用"
      ],
      "metadata": {
        "id": "phO_vDjF9rMC"
      }
    },
    {
      "cell_type": "code",
      "source": [
        "name=input(\"請輸入您的姓名：\")\n",
        "print(\"您的姓名：\",name)\n"
      ],
      "metadata": {
        "id": "dkGms36g9Ed4",
        "outputId": "e33a095a-4051-4a42-be6c-b557f1160b6c",
        "colab": {
          "base_uri": "https://localhost:8080/"
        }
      },
      "execution_count": 5,
      "outputs": [
        {
          "output_type": "stream",
          "name": "stdout",
          "text": [
            "請輸入您的姓名：sharon\n",
            "您的姓名： sharon\n"
          ]
        }
      ]
    }
  ]
}